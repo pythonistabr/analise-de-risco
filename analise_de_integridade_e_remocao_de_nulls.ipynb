{
 "cells": [
  {
   "cell_type": "code",
   "execution_count": 1,
   "id": "60b85486",
   "metadata": {},
   "outputs": [],
   "source": [
    "#import numpy as np\n",
    "import pandas as pd"
   ]
  },
  {
   "cell_type": "code",
   "execution_count": 2,
   "id": "fdfd67f6",
   "metadata": {},
   "outputs": [],
   "source": [
    "df = pd.read_csv(\"dados_limpos1.csv\")"
   ]
  },
  {
   "cell_type": "code",
   "execution_count": 3,
   "id": "8730eca2",
   "metadata": {},
   "outputs": [
    {
     "name": "stdout",
     "output_type": "stream",
     "text": [
      "<class 'pandas.core.frame.DataFrame'>\n",
      "RangeIndex: 29685 entries, 0 to 29684\n",
      "Data columns (total 25 columns):\n",
      " #   Column                      Non-Null Count  Dtype \n",
      "---  ------                      --------------  ----- \n",
      " 0   ID                          29685 non-null  object\n",
      " 1   LIMIT_BAL                   29685 non-null  int64 \n",
      " 2   SEX                         29685 non-null  int64 \n",
      " 3   EDUCATION                   29685 non-null  int64 \n",
      " 4   MARRIAGE                    29685 non-null  int64 \n",
      " 5   AGE                         29685 non-null  int64 \n",
      " 6   PAY_1                       29685 non-null  object\n",
      " 7   PAY_2                       29685 non-null  int64 \n",
      " 8   PAY_3                       29685 non-null  int64 \n",
      " 9   PAY_4                       29685 non-null  int64 \n",
      " 10  PAY_5                       29685 non-null  int64 \n",
      " 11  PAY_6                       29685 non-null  int64 \n",
      " 12  BILL_AMT1                   29685 non-null  int64 \n",
      " 13  BILL_AMT2                   29685 non-null  int64 \n",
      " 14  BILL_AMT3                   29685 non-null  int64 \n",
      " 15  BILL_AMT4                   29685 non-null  int64 \n",
      " 16  BILL_AMT5                   29685 non-null  int64 \n",
      " 17  BILL_AMT6                   29685 non-null  int64 \n",
      " 18  PAY_AMT1                    29685 non-null  int64 \n",
      " 19  PAY_AMT2                    29685 non-null  int64 \n",
      " 20  PAY_AMT3                    29685 non-null  int64 \n",
      " 21  PAY_AMT4                    29685 non-null  int64 \n",
      " 22  PAY_AMT5                    29685 non-null  int64 \n",
      " 23  PAY_AMT6                    29685 non-null  int64 \n",
      " 24  default payment next month  29685 non-null  int64 \n",
      "dtypes: int64(23), object(2)\n",
      "memory usage: 5.7+ MB\n"
     ]
    }
   ],
   "source": [
    "df.info()"
   ]
  },
  {
   "cell_type": "code",
   "execution_count": 4,
   "id": "a583896a",
   "metadata": {},
   "outputs": [
    {
     "data": {
      "text/plain": [
       "0     2\n",
       "1    -1\n",
       "2     0\n",
       "3     0\n",
       "4    -1\n",
       "Name: PAY_1, dtype: object"
      ]
     },
     "execution_count": 4,
     "metadata": {},
     "output_type": "execute_result"
    }
   ],
   "source": [
    "df[\"PAY_1\"].head()"
   ]
  },
  {
   "cell_type": "code",
   "execution_count": 6,
   "id": "802e96fe",
   "metadata": {},
   "outputs": [
    {
     "data": {
      "text/plain": [
       "0                13087\n",
       "-1                5047\n",
       "1                 3261\n",
       "Not available     3021\n",
       "-2                2476\n",
       "2                 2378\n",
       "3                  292\n",
       "4                   63\n",
       "5                   23\n",
       "8                   17\n",
       "6                   11\n",
       "7                    9\n",
       "Name: PAY_1, dtype: int64"
      ]
     },
     "execution_count": 6,
     "metadata": {},
     "output_type": "execute_result"
    }
   ],
   "source": [
    "df[\"PAY_1\"].value_counts()"
   ]
  },
  {
   "cell_type": "markdown",
   "id": "beb6a604",
   "metadata": {},
   "source": [
    "### Encontrando e removendo os dados que são NaN's"
   ]
  },
  {
   "cell_type": "code",
   "execution_count": 7,
   "id": "daf0ae5a",
   "metadata": {},
   "outputs": [],
   "source": [
    "mascara_valores_validos_pagamento1 = df[\"PAY_1\"] != \"Not available\""
   ]
  },
  {
   "cell_type": "code",
   "execution_count": 8,
   "id": "8a516472",
   "metadata": {},
   "outputs": [
    {
     "data": {
      "text/plain": [
       "0    True\n",
       "1    True\n",
       "2    True\n",
       "3    True\n",
       "4    True\n",
       "Name: PAY_1, dtype: bool"
      ]
     },
     "execution_count": 8,
     "metadata": {},
     "output_type": "execute_result"
    }
   ],
   "source": [
    "mascara_valores_validos_pagamento1.head(5)"
   ]
  },
  {
   "cell_type": "markdown",
   "id": "d300b5a6",
   "metadata": {},
   "source": [
    "### contagem de dados validos"
   ]
  },
  {
   "cell_type": "code",
   "execution_count": 9,
   "id": "e9d5d786",
   "metadata": {},
   "outputs": [
    {
     "data": {
      "text/plain": [
       "26664"
      ]
     },
     "execution_count": 9,
     "metadata": {},
     "output_type": "execute_result"
    }
   ],
   "source": [
    "sum(mascara_valores_validos_pagamento1)"
   ]
  },
  {
   "cell_type": "markdown",
   "id": "e6bca902",
   "metadata": {},
   "source": [
    "### remoção das linhas de dados marcadas com \"Not available\""
   ]
  },
  {
   "cell_type": "code",
   "execution_count": 14,
   "id": "48afb5df",
   "metadata": {},
   "outputs": [],
   "source": [
    "df_limpo2 = df.loc[mascara_valores_validos_pagamento1, :].copy()"
   ]
  },
  {
   "cell_type": "code",
   "execution_count": 15,
   "id": "6a7ad1c6",
   "metadata": {},
   "outputs": [
    {
     "data": {
      "text/plain": [
       "(26664, 25)"
      ]
     },
     "execution_count": 15,
     "metadata": {},
     "output_type": "execute_result"
    }
   ],
   "source": [
    "df_limpo2.shape"
   ]
  },
  {
   "cell_type": "code",
   "execution_count": 16,
   "id": "f2890b74",
   "metadata": {},
   "outputs": [],
   "source": [
    "df_limpo2[\"PAY_1\"] = df_limpo2[\"PAY_1\"].astype('int64')"
   ]
  },
  {
   "cell_type": "markdown",
   "id": "48b9af9e",
   "metadata": {},
   "source": [
    "### checando novamente"
   ]
  },
  {
   "cell_type": "code",
   "execution_count": 18,
   "id": "36b2f3b3",
   "metadata": {},
   "outputs": [
    {
     "name": "stdout",
     "output_type": "stream",
     "text": [
      "<class 'pandas.core.frame.DataFrame'>\n",
      "Int64Index: 26664 entries, 0 to 29684\n",
      "Data columns (total 2 columns):\n",
      " #   Column  Non-Null Count  Dtype\n",
      "---  ------  --------------  -----\n",
      " 0   PAY_1   26664 non-null  int64\n",
      " 1   PAY_2   26664 non-null  int64\n",
      "dtypes: int64(2)\n",
      "memory usage: 624.9 KB\n"
     ]
    }
   ],
   "source": [
    "df_limpo2[[\"PAY_1\",\"PAY_2\"]].info()"
   ]
  },
  {
   "cell_type": "markdown",
   "id": "e021545a",
   "metadata": {},
   "source": [
    "### Salvando os dados limpos"
   ]
  },
  {
   "cell_type": "code",
   "execution_count": 19,
   "id": "10ce48ed",
   "metadata": {},
   "outputs": [],
   "source": [
    "df_limpo2.to_csv(\"dados_limpos2.csv\", index=False)"
   ]
  }
 ],
 "metadata": {
  "kernelspec": {
   "display_name": "Python 3 (ipykernel)",
   "language": "python",
   "name": "python3"
  },
  "language_info": {
   "codemirror_mode": {
    "name": "ipython",
    "version": 3
   },
   "file_extension": ".py",
   "mimetype": "text/x-python",
   "name": "python",
   "nbconvert_exporter": "python",
   "pygments_lexer": "ipython3",
   "version": "3.9.5"
  }
 },
 "nbformat": 4,
 "nbformat_minor": 5
}
